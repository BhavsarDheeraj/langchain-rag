{
 "cells": [
  {
   "cell_type": "code",
   "execution_count": 19,
   "metadata": {},
   "outputs": [],
   "source": [
    "from langchain_community.document_loaders.pdf import PyPDFLoader\n",
    "from langchain_text_splitters import RecursiveCharacterTextSplitter\n",
    "from langchain_openai import OpenAIEmbeddings\n",
    "from langchain_community.vectorstores.faiss import FAISS\n",
    "from langchain_openai import OpenAI\n",
    "from langchain_core.prompts import ChatPromptTemplate\n",
    "from langchain.chains.combine_documents import create_stuff_documents_chain\n",
    "from langchain.chains.retrieval import create_retrieval_chain\n",
    "\n",
    "import os\n",
    "from dotenv import load_dotenv"
   ]
  },
  {
   "cell_type": "code",
   "execution_count": 2,
   "metadata": {},
   "outputs": [],
   "source": [
    "load_dotenv()\n",
    "\n",
    "os.environ[\"OPENAI_API_KEY\"] = os.getenv(\"OPENAI_API_KEY\")"
   ]
  },
  {
   "cell_type": "code",
   "execution_count": 4,
   "metadata": {},
   "outputs": [],
   "source": [
    "loader = PyPDFLoader(\"data/relativity.pdf\")\n",
    "documents = loader.load()"
   ]
  },
  {
   "cell_type": "code",
   "execution_count": 5,
   "metadata": {},
   "outputs": [],
   "source": [
    "text_splitter = RecursiveCharacterTextSplitter(chunk_size=1000, chunk_overlap=100)\n",
    "docs = text_splitter.split_documents(documents)"
   ]
  },
  {
   "cell_type": "code",
   "execution_count": 6,
   "metadata": {},
   "outputs": [],
   "source": [
    "embeddings = OpenAIEmbeddings()"
   ]
  },
  {
   "cell_type": "code",
   "execution_count": 7,
   "metadata": {},
   "outputs": [],
   "source": [
    "db = FAISS.from_documents(docs, embeddings)"
   ]
  },
  {
   "cell_type": "code",
   "execution_count": 9,
   "metadata": {},
   "outputs": [],
   "source": [
    "llm = OpenAI()"
   ]
  },
  {
   "cell_type": "code",
   "execution_count": 23,
   "metadata": {},
   "outputs": [],
   "source": [
    "prompt = ChatPromptTemplate.from_template(\n",
    "    \"\"\"\n",
    "Answer the question based on the context provided.\n",
    "Think step by step before providing a detailed answer.\n",
    "<context>\n",
    "{context}\n",
    "</context>\n",
    "Question: {input}\"\"\"\n",
    ")"
   ]
  },
  {
   "cell_type": "code",
   "execution_count": 24,
   "metadata": {},
   "outputs": [],
   "source": [
    "document_chain = create_stuff_documents_chain(llm, prompt)"
   ]
  },
  {
   "cell_type": "code",
   "execution_count": 25,
   "metadata": {},
   "outputs": [],
   "source": [
    "retriever = db.as_retriever()"
   ]
  },
  {
   "cell_type": "code",
   "execution_count": 26,
   "metadata": {},
   "outputs": [],
   "source": [
    "retrieval_chain = create_retrieval_chain(retriever, document_chain)"
   ]
  },
  {
   "cell_type": "code",
   "execution_count": 30,
   "metadata": {},
   "outputs": [],
   "source": [
    "question = \"What is space time?\""
   ]
  },
  {
   "cell_type": "code",
   "execution_count": 31,
   "metadata": {},
   "outputs": [],
   "source": [
    "response = retrieval_chain.invoke({\"input\": question})"
   ]
  },
  {
   "cell_type": "code",
   "execution_count": 32,
   "metadata": {},
   "outputs": [
    {
     "data": {
      "text/plain": [
       "{'input': 'What is space time?',\n",
       " 'context': [Document(page_content='Part I: The Special Theory of Relativity\\nAlbert Einstein 51Minkowski\\'s Four-Dimensional\\nSpace\\n \\nThe non-mathematician is seized by a mysterious shuddering when he hears of \"four-\\ndimensional\" things, by a feeling not unlike that awakened by thoughts of the occult. And\\nyet there is no more common-place statement than that the world in which we live is a four-\\ndimensional space-time continuum.\\nSpace is a three-dimensional continuum. By this we mean that it is possible to describe\\nthe position of a point (at rest) by means of three numbers (co-ordinales) x, y, z, and thatthere is an indefinite number of points in the neighbourhood of this one, the position of\\nwhich can be described by co-ordinates such as x\\n1, y 1, z1, which may be as near as we\\nchoose to the respective values of the co-ordinates x, y, z, of the first point. In virtue of thelatter property we speak of a \" continuum,\" and owing to the fact that there are three co-\\nordinates we speak of it as being \" three-dimensional.\"', metadata={'source': 'data/relativity.pdf', 'page': 50}),\n",
       "  Document(page_content='Part I: The Special Theory of Relativity\\nAlbert Einstein 12Space and Time in Classical\\nMechanics\\n \\nThe purpose of mechanics is to describe how bodies change their position in space with\\n\"time.\" I should load my conscience with grave sins against the sacred spirit of lucidity\\nwere I to formulate the aims of mechanics in this way, without serious reflection and\\ndetailed explanations. Let us proceed to disclose these sins.\\nIt is not clear what is to be understood here by \"position\" and \"space.\" I stand at the\\nwindow of a railway carriage which is travelling uniformly, and drop a stone on theembankment, without throwing it. Then, disregarding the influence of the air resistance, I\\nsee the stone descend in a straight line. A pedestrian who observes the misdeed from the\\nfootpath notices that the stone falls to earth in a parabolic curve. I now ask: Do the\\n\"positions\" traversed by the stone lie \"in reality\" on a straight line or on a parabola?', metadata={'source': 'data/relativity.pdf', 'page': 11}),\n",
       "  Document(page_content='In view of the resuIts of these considerations we are led to the conviction that, according\\nto the general principle of relativity, the space-time continuum cannot be regarded as a\\nEuclidean one, but that here we have the general case, corresponding to the marble slab\\nwith local variations of temperature, and with which we made acquaintance as an example\\nof a two-dimensional continuum. Just as it was there impossible to construct a Cartesian co-\\nordinate system from equal rods, so here it is impossible to build up a system (reference-\\nbody) from rigid bodies and clocks, which shall be of such a nature that measuring-rods andclocks, arranged rigidly with respect to one another, shaIll indicate position and time\\ndirectly. Such was the essence of the difficulty with which we were confronted in Section\\n23.\\nBut the considerations of Sections 25 and 26 show us the way to surmount this difficulty.', metadata={'source': 'data/relativity.pdf', 'page': 79}),\n",
       "  Document(page_content='Part II: The General Theory of Relativity\\nAlbert Einstein 80The Space-Time Continuum of the\\nGeneral Theory of Realtivity is\\nNot a Euclidean Continuum\\n \\nIn the first part of this book we were able to make use of space-time co-ordinates which\\nallowed of a simple and direct physical interpretation, and which, according to Section 26,\\ncan be regarded as four-dimensional Cartesian co-ordinates. This was possible on the basis\\nof the law of the constancy of the velocity of tight. But according to Section 21  the general\\ntheory of relativity cannot retain this law. On the contrary, we arrived at the result that\\naccording to this latter theory the velocity of light must always depend on the co-ordinates\\nwhen a gravitational field is present. In connection with a specific illustration in Section 23,\\nwe found that the presence of a gravitational field invalidates the definition of thecoordinates and the ifine, which led us to our objective in the special theory of relativity.', metadata={'source': 'data/relativity.pdf', 'page': 79})],\n",
       " 'answer': '\\n\\nSpace-time is a four-dimensional continuum that describes the position of objects in space and their movement through time. It includes the three dimensions of space (length, width, and height) and the dimension of time.'}"
      ]
     },
     "execution_count": 32,
     "metadata": {},
     "output_type": "execute_result"
    }
   ],
   "source": [
    "response"
   ]
  },
  {
   "cell_type": "code",
   "execution_count": null,
   "metadata": {},
   "outputs": [],
   "source": []
  }
 ],
 "metadata": {
  "kernelspec": {
   "display_name": ".venv",
   "language": "python",
   "name": "python3"
  },
  "language_info": {
   "codemirror_mode": {
    "name": "ipython",
    "version": 3
   },
   "file_extension": ".py",
   "mimetype": "text/x-python",
   "name": "python",
   "nbconvert_exporter": "python",
   "pygments_lexer": "ipython3",
   "version": "3.11.5"
  }
 },
 "nbformat": 4,
 "nbformat_minor": 2
}
